{
 "cells": [
  {
   "cell_type": "markdown",
   "metadata": {},
   "source": [
    "# IDEA League exercise 1 - Quantitative analysis\n",
    "\n",
    "Contact: Giulio Piccinini - [giulio.piccinini@chalmers.se](giulio.piccinini@chalmers.se)\n",
    "\n",
    "Institution: Chalmers University of Technology\n",
    "\n",
    "Date: September 2022\n",
    "\n",
    "Course: IDEA League summer school (Analysis and modelling road user behaviour)"
   ]
  },
  {
   "cell_type": "markdown",
   "metadata": {},
   "source": [
    "_Note:_ This notebook was developed based on the conda environment specified in _environment.yml_. To run it, you could use one of the following ways:\n",
    "- Install the environment from conda (you need to have e.g. [Miniconda](https://docs.conda.io/en/latest/miniconda.html) or [Anaconda](https://www.anaconda.com/products/individual) installed): `conda env create -f environment.yml` and activate it via `conda activate idea-league-chalmers`\n",
    "- Upload it to [Google Colab](https://colab.research.google.com/) (you will also need to upload the files _Event.mat_ and _util.py_ to the same location, please do _not_ share the data publicly!)\n",
    "- Have all the packages installed in your local Python installation (see the _environment.yml_ file for detailed specifications)"
   ]
  },
  {
   "cell_type": "code",
   "execution_count": null,
   "metadata": {},
   "outputs": [],
   "source": [
    "# If you use Google Colab, you may need the following lines to upload the Event.mat and util.py files\n",
    "\n",
    "# from google.colab import files\n",
    "# uploaded = files.upload()"
   ]
  },
  {
   "cell_type": "code",
   "execution_count": null,
   "metadata": {},
   "outputs": [],
   "source": [
    "import numpy as np\n",
    "from scipy.io import loadmat\n",
    "import matplotlib.pyplot as plt\n",
    "from datetime import datetime, date, time\n",
    "import pandas as pd\n",
    "\n",
    "# Utilities for loading the data from MATLAB and calculating odds ratios\n",
    "import util\n",
    "\n",
    "np.set_printoptions(precision=2)"
   ]
  },
  {
   "cell_type": "markdown",
   "metadata": {},
   "source": [
    "## Definition of parameters"
   ]
  },
  {
   "cell_type": "code",
   "execution_count": null,
   "metadata": {},
   "outputs": [],
   "source": [
    "EV_length = 4.5; # Length of ego vehicle [m]\n",
    "LV_length = 4.1; # Length of lead vehicle [m]\n",
    "EV_Distance_Cog_Ls = 1.9; # Distance between center of gravity and leading surface of vehicle for ego vehicle [m]\n",
    "LV_Distance_Cog_Ls = 1.7; # Distance between center of gravity and leading surface of vehicle for ego vehicle [m]"
   ]
  },
  {
   "cell_type": "markdown",
   "metadata": {},
   "source": [
    "## Load the data"
   ]
  },
  {
   "cell_type": "code",
   "execution_count": null,
   "metadata": {},
   "outputs": [],
   "source": [
    "data = pd.read_csv(\"Data_DSS.csv\")"
   ]
  },
  {
   "cell_type": "code",
   "execution_count": null,
   "metadata": {},
   "outputs": [],
   "source": [
    "data.head()"
   ]
  },
  {
   "cell_type": "markdown",
   "metadata": {},
   "source": [
    "## Calculation of variables"
   ]
  },
  {
   "cell_type": "code",
   "execution_count": null,
   "metadata": {},
   "outputs": [],
   "source": [
    "idx_start_event = data[data[\"Lead_vehicle_critical_situation_index\"] == 4].first_valid_index() + 1\n",
    "\n",
    "ind_response_time = data[data[\"Ego_vehicle_pedal_brake_depression\"] == 1].index\n",
    "\n",
    "for i in range(len(ind_response_time)):\n",
    "    if ind_response_time[i] > idx_start_event:\n",
    "        \n",
    "        response_start = ind_response_time[i] + 1\n",
    "\n",
    "        break\n",
    "\n",
    "response_start"
   ]
  },
  {
   "cell_type": "code",
   "execution_count": null,
   "metadata": {},
   "outputs": [],
   "source": [
    "# ..."
   ]
  }
 ],
 "metadata": {
  "kernelspec": {
   "display_name": "Python 3.8.5 ('idea-league-chalmers')",
   "language": "python",
   "name": "python3"
  },
  "language_info": {
   "codemirror_mode": {
    "name": "ipython",
    "version": 3
   },
   "file_extension": ".py",
   "mimetype": "text/x-python",
   "name": "python",
   "nbconvert_exporter": "python",
   "pygments_lexer": "ipython3",
   "version": "3.8.5"
  },
  "orig_nbformat": 4,
  "vscode": {
   "interpreter": {
    "hash": "9b1237065cd4fd0023a1f41f1df98b606095b41ea093f0ad2be137af4a1d29ac"
   }
  }
 },
 "nbformat": 4,
 "nbformat_minor": 2
}
