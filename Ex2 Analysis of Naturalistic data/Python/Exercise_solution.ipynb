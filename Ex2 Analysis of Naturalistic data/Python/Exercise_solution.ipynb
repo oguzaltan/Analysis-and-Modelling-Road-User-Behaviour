{
 "cells": [
  {
   "cell_type": "markdown",
   "metadata": {},
   "source": [
    "# IDEA League exercise - 100car Naturalistic data analysis\n",
    "\n",
    "Contact: Alexander Rasch ([alexander.rasch@chalmers.se](alexander.rasch@chalmers.se)), Pierluigi Olleja ([pierluigi.olleja@chalmers.se](pierluigi.olleja@chalmers.se))\n",
    "\n",
    "Institution: Chalmers University of Technology\n",
    "\n",
    "Date: September 2022\n",
    "\n",
    "Course: IDEA League summer school (Analysis and modelling road user behaviour)"
   ]
  },
  {
   "cell_type": "markdown",
   "metadata": {},
   "source": [
    "_Note:_ This notebook was developed based on the conda environment specified in _environment.yml_. To run it, you could use one of the following ways:\n",
    "- Install the environment from conda (you need to have e.g. [Miniconda](https://docs.conda.io/en/latest/miniconda.html) or [Anaconda](https://www.anaconda.com/products/individual) installed): `conda env create -f environment.yml` and activate it via `conda activate idea-league-chalmers`\n",
    "- Upload it to [Google Colab](https://colab.research.google.com/) (you will also need to upload the files _Event.mat_ and _util.py_ to the same location, please do _not_ share the data publicly!)\n",
    "- Have all the packages installed in your local Python installation (see the _environment.yml_ file for detailed specifications)"
   ]
  },
  {
   "cell_type": "code",
   "execution_count": 5,
   "metadata": {},
   "outputs": [],
   "source": [
    "# If you use Google Colab, you may need the following lines to upload the Event.mat and util.py files\n",
    "\n",
    "# from google.colab import files\n",
    "# uploaded = files.upload()"
   ]
  },
  {
   "cell_type": "code",
   "execution_count": 6,
   "metadata": {},
   "outputs": [],
   "source": [
    "import numpy as np\n",
    "from scipy.io import loadmat\n",
    "import matplotlib.pyplot as plt\n",
    "from datetime import datetime, date, time\n",
    "import pandas as pd\n",
    "\n",
    "# Utilities for loading the data from MATLAB and calculating odds ratios\n",
    "import util\n",
    "\n",
    "np.set_printoptions(precision=2)"
   ]
  },
  {
   "cell_type": "markdown",
   "metadata": {},
   "source": [
    "## Task 1 (MATLAB-only!)"
   ]
  },
  {
   "cell_type": "markdown",
   "metadata": {},
   "source": [
    "For this first task you do not need to write any code. You need, instead, to use the SAFER100car software (including the documentation), and the 100car's dictionaries.\n",
    "\n",
    "Follow the steps below:\n",
    "1. Start the SAFER100car GUI in MATLAB: execute the file _SAFER100car.m_\n",
    "2. Load a 'crash' event\n",
    "3. Plot the speed signal (and check its quality)\n",
    "4. Read the narrative of the event\n",
    "5. Explore and understand the video annotations (more info in the dictionaries)\n",
    "6. Explore and understand the glance behavior (more info in the dictionaries)\n",
    "7. Can you make a story? For example: What was the event's contributing factor? Was the driver distracted? Were there other vehicles involved in the event?\n",
    "8. Repeat for some more events, including near-crashes."
   ]
  },
  {
   "cell_type": "markdown",
   "metadata": {},
   "source": [
    "## Task 2"
   ]
  },
  {
   "cell_type": "markdown",
   "metadata": {},
   "source": [
    "This task is about understanding the relation between crash severity and distracting activities. \n",
    "\n",
    "Load the data from _Event.mat_ with the given function `util.get_data`. When the data are loaded (which can take about half a minute!), the pandas DataFrame `data`, which includes the information on all events in the 100car dataset is available."
   ]
  },
  {
   "cell_type": "code",
   "execution_count": 7,
   "metadata": {},
   "outputs": [
    {
     "name": "stdout",
     "output_type": "stream",
     "text": [
      "[====================] 100%"
     ]
    },
    {
     "data": {
      "text/html": [
       "<div>\n",
       "<style scoped>\n",
       "    .dataframe tbody tr th:only-of-type {\n",
       "        vertical-align: middle;\n",
       "    }\n",
       "\n",
       "    .dataframe tbody tr th {\n",
       "        vertical-align: top;\n",
       "    }\n",
       "\n",
       "    .dataframe thead th {\n",
       "        text-align: right;\n",
       "    }\n",
       "</style>\n",
       "<table border=\"1\" class=\"dataframe\">\n",
       "  <thead>\n",
       "    <tr style=\"text-align: right;\">\n",
       "      <th></th>\n",
       "      <th>ID</th>\n",
       "      <th>Narratives</th>\n",
       "      <th>Sensor</th>\n",
       "      <th>Video</th>\n",
       "      <th>Glance</th>\n",
       "    </tr>\n",
       "  </thead>\n",
       "  <tbody>\n",
       "    <tr>\n",
       "      <th>0</th>\n",
       "      <td>8296</td>\n",
       "      <td>Subject driver is adjusting the radio with her...</td>\n",
       "      <td>&lt;Python.util.Sensor object at 0x0000025910E72670&gt;</td>\n",
       "      <td>&lt;Python.util.Video object at 0x00000259184F34C0&gt;</td>\n",
       "      <td>&lt;Python.util.Glances object at 0x00000259184F3...</td>\n",
       "    </tr>\n",
       "    <tr>\n",
       "      <th>1</th>\n",
       "      <td>8297</td>\n",
       "      <td>Subject vehicle is traveling in the left lane,...</td>\n",
       "      <td>&lt;Python.util.Sensor object at 0x00000259184F35E0&gt;</td>\n",
       "      <td>&lt;Python.util.Video object at 0x00000259184F3BB0&gt;</td>\n",
       "      <td>&lt;Python.util.Glances object at 0x00000259184F3...</td>\n",
       "    </tr>\n",
       "    <tr>\n",
       "      <th>2</th>\n",
       "      <td>8298</td>\n",
       "      <td>Subject driver begins to change lanes (from mi...</td>\n",
       "      <td>&lt;Python.util.Sensor object at 0x00000259184F3CD0&gt;</td>\n",
       "      <td>&lt;Python.util.Video object at 0x00000259184F3C40&gt;</td>\n",
       "      <td>&lt;Python.util.Glances object at 0x00000259184F3...</td>\n",
       "    </tr>\n",
       "    <tr>\n",
       "      <th>3</th>\n",
       "      <td>8299</td>\n",
       "      <td>Subject driver is in the entrance/exit only la...</td>\n",
       "      <td>&lt;Python.util.Sensor object at 0x00000259184F3580&gt;</td>\n",
       "      <td>&lt;Python.util.Video object at 0x00000259184F3C70&gt;</td>\n",
       "      <td>&lt;Python.util.Glances object at 0x00000259184F3...</td>\n",
       "    </tr>\n",
       "    <tr>\n",
       "      <th>4</th>\n",
       "      <td>8300</td>\n",
       "      <td>Subject vehicle pulls off of the road on the r...</td>\n",
       "      <td>&lt;Python.util.Sensor object at 0x00000259184F3EE0&gt;</td>\n",
       "      <td>&lt;Python.util.Video object at 0x0000025918830430&gt;</td>\n",
       "      <td>&lt;Python.util.Glances object at 0x0000025918830...</td>\n",
       "    </tr>\n",
       "  </tbody>\n",
       "</table>\n",
       "</div>"
      ],
      "text/plain": [
       "     ID                                         Narratives  \\\n",
       "0  8296  Subject driver is adjusting the radio with her...   \n",
       "1  8297  Subject vehicle is traveling in the left lane,...   \n",
       "2  8298  Subject driver begins to change lanes (from mi...   \n",
       "3  8299  Subject driver is in the entrance/exit only la...   \n",
       "4  8300  Subject vehicle pulls off of the road on the r...   \n",
       "\n",
       "                                              Sensor  \\\n",
       "0  <Python.util.Sensor object at 0x0000025910E72670>   \n",
       "1  <Python.util.Sensor object at 0x00000259184F35E0>   \n",
       "2  <Python.util.Sensor object at 0x00000259184F3CD0>   \n",
       "3  <Python.util.Sensor object at 0x00000259184F3580>   \n",
       "4  <Python.util.Sensor object at 0x00000259184F3EE0>   \n",
       "\n",
       "                                              Video  \\\n",
       "0  <Python.util.Video object at 0x00000259184F34C0>   \n",
       "1  <Python.util.Video object at 0x00000259184F3BB0>   \n",
       "2  <Python.util.Video object at 0x00000259184F3C40>   \n",
       "3  <Python.util.Video object at 0x00000259184F3C70>   \n",
       "4  <Python.util.Video object at 0x0000025918830430>   \n",
       "\n",
       "                                              Glance  \n",
       "0  <Python.util.Glances object at 0x00000259184F3...  \n",
       "1  <Python.util.Glances object at 0x00000259184F3...  \n",
       "2  <Python.util.Glances object at 0x00000259184F3...  \n",
       "3  <Python.util.Glances object at 0x00000259184F3...  \n",
       "4  <Python.util.Glances object at 0x0000025918830...  "
      ]
     },
     "execution_count": 7,
     "metadata": {},
     "output_type": "execute_result"
    }
   ],
   "source": [
    "data = util.get_data(\"Event.mat\")\n",
    "\n",
    "data.head()"
   ]
  },
  {
   "cell_type": "markdown",
   "metadata": {},
   "source": [
    "Each row in the DataFrame `data` includes five columns, the `ID` of the event as an integer number, a description of the event (`Narratives`) as string, a `Sensor` object containing sensor data, a `Video` object containing video annotations and settings, and a `Glances` object containing the glance data.\n",
    "\n",
    "See below a way to show all the attributes of, for instance, a `Video` object (for the first event at index 0)."
   ]
  },
  {
   "cell_type": "code",
   "execution_count": 8,
   "metadata": {},
   "outputs": [
    {
     "name": "stdout",
     "output_type": "stream",
     "text": [
      "ID, vehicle_webid, start, end, severity, subject_ID, age, gender, nature, incident_type, pre_incident_maneuver, maneuver_judgment, precipitating_event, driver_reaction, post_maneuver_control, driver_behaviour_1, driver_behaviour_2, driver_behaviour_3, driver_impairments, infrastructure, distraction_1, distraction_1_start_sync, distraction_1_end_sync, distraction_1_outcome, distraction_2, distraction_2_start_sync, distraction_2_end_sync, distraction_2_ouctome, distraction_3, distraction_3_start_sync, distraction_3_end_sync, distraction_3_outcome, hands_on_wheel, vehicle_contributing_factors, visual_obstructions, surface_condition, traffic_flow, travel_lanes, traffic_density, relation_to_junction, alignment, locality, lighting, weather, driver_seatbelt_use, number_of_other_vehicles, fault, vehicle_2_location, vehicle_2_type, vehicle_2_maneuver, vehicle_2_driver_reaction, vehicle_3_location, vehicle_3_type, vehicle_3_maneuver, vehicle_3_driver_reaction, traffic_control\n"
     ]
    }
   ],
   "source": [
    "print(*list(data.iloc[0][\"Video\"].__dict__.keys()), sep=', ')"
   ]
  },
  {
   "cell_type": "markdown",
   "metadata": {},
   "source": [
    "The `Glance` object contains a pandas DataFrame (`glances`) which contains all the annotated glances of the driver. See below for an example event:"
   ]
  },
  {
   "cell_type": "code",
   "execution_count": 9,
   "metadata": {},
   "outputs": [
    {
     "data": {
      "text/html": [
       "<div>\n",
       "<style scoped>\n",
       "    .dataframe tbody tr th:only-of-type {\n",
       "        vertical-align: middle;\n",
       "    }\n",
       "\n",
       "    .dataframe tbody tr th {\n",
       "        vertical-align: top;\n",
       "    }\n",
       "\n",
       "    .dataframe thead th {\n",
       "        text-align: right;\n",
       "    }\n",
       "</style>\n",
       "<table border=\"1\" class=\"dataframe\">\n",
       "  <thead>\n",
       "    <tr style=\"text-align: right;\">\n",
       "      <th></th>\n",
       "      <th>start</th>\n",
       "      <th>stop</th>\n",
       "      <th>duration</th>\n",
       "      <th>location</th>\n",
       "    </tr>\n",
       "  </thead>\n",
       "  <tbody>\n",
       "    <tr>\n",
       "      <th>0</th>\n",
       "      <td>754</td>\n",
       "      <td>767</td>\n",
       "      <td>14</td>\n",
       "      <td>Cell phone</td>\n",
       "    </tr>\n",
       "    <tr>\n",
       "      <th>1</th>\n",
       "      <td>895</td>\n",
       "      <td>905</td>\n",
       "      <td>11</td>\n",
       "      <td>forward</td>\n",
       "    </tr>\n",
       "    <tr>\n",
       "      <th>2</th>\n",
       "      <td>805</td>\n",
       "      <td>846</td>\n",
       "      <td>42</td>\n",
       "      <td>forward</td>\n",
       "    </tr>\n",
       "    <tr>\n",
       "      <th>3</th>\n",
       "      <td>783</td>\n",
       "      <td>785</td>\n",
       "      <td>3</td>\n",
       "      <td>forward</td>\n",
       "    </tr>\n",
       "    <tr>\n",
       "      <th>4</th>\n",
       "      <td>880</td>\n",
       "      <td>894</td>\n",
       "      <td>15</td>\n",
       "      <td>right forward</td>\n",
       "    </tr>\n",
       "    <tr>\n",
       "      <th>5</th>\n",
       "      <td>720</td>\n",
       "      <td>753</td>\n",
       "      <td>34</td>\n",
       "      <td>forward</td>\n",
       "    </tr>\n",
       "    <tr>\n",
       "      <th>6</th>\n",
       "      <td>778</td>\n",
       "      <td>782</td>\n",
       "      <td>5</td>\n",
       "      <td>left window</td>\n",
       "    </tr>\n",
       "    <tr>\n",
       "      <th>7</th>\n",
       "      <td>786</td>\n",
       "      <td>804</td>\n",
       "      <td>19</td>\n",
       "      <td>Interior object</td>\n",
       "    </tr>\n",
       "    <tr>\n",
       "      <th>8</th>\n",
       "      <td>933</td>\n",
       "      <td>938</td>\n",
       "      <td>6</td>\n",
       "      <td>center stack</td>\n",
       "    </tr>\n",
       "    <tr>\n",
       "      <th>9</th>\n",
       "      <td>958</td>\n",
       "      <td>1017</td>\n",
       "      <td>60</td>\n",
       "      <td>Cell phone</td>\n",
       "    </tr>\n",
       "    <tr>\n",
       "      <th>10</th>\n",
       "      <td>939</td>\n",
       "      <td>943</td>\n",
       "      <td>5</td>\n",
       "      <td>forward</td>\n",
       "    </tr>\n",
       "    <tr>\n",
       "      <th>11</th>\n",
       "      <td>906</td>\n",
       "      <td>911</td>\n",
       "      <td>6</td>\n",
       "      <td>right forward</td>\n",
       "    </tr>\n",
       "    <tr>\n",
       "      <th>12</th>\n",
       "      <td>847</td>\n",
       "      <td>866</td>\n",
       "      <td>20</td>\n",
       "      <td>right forward</td>\n",
       "    </tr>\n",
       "    <tr>\n",
       "      <th>13</th>\n",
       "      <td>944</td>\n",
       "      <td>949</td>\n",
       "      <td>6</td>\n",
       "      <td>Cell phone</td>\n",
       "    </tr>\n",
       "    <tr>\n",
       "      <th>14</th>\n",
       "      <td>912</td>\n",
       "      <td>932</td>\n",
       "      <td>21</td>\n",
       "      <td>forward</td>\n",
       "    </tr>\n",
       "    <tr>\n",
       "      <th>15</th>\n",
       "      <td>950</td>\n",
       "      <td>957</td>\n",
       "      <td>8</td>\n",
       "      <td>forward</td>\n",
       "    </tr>\n",
       "    <tr>\n",
       "      <th>16</th>\n",
       "      <td>1018</td>\n",
       "      <td>1030</td>\n",
       "      <td>13</td>\n",
       "      <td>forward</td>\n",
       "    </tr>\n",
       "    <tr>\n",
       "      <th>17</th>\n",
       "      <td>867</td>\n",
       "      <td>879</td>\n",
       "      <td>13</td>\n",
       "      <td>forward</td>\n",
       "    </tr>\n",
       "    <tr>\n",
       "      <th>18</th>\n",
       "      <td>768</td>\n",
       "      <td>777</td>\n",
       "      <td>10</td>\n",
       "      <td>forward</td>\n",
       "    </tr>\n",
       "  </tbody>\n",
       "</table>\n",
       "</div>"
      ],
      "text/plain": [
       "    start  stop  duration         location\n",
       "0     754   767        14       Cell phone\n",
       "1     895   905        11          forward\n",
       "2     805   846        42          forward\n",
       "3     783   785         3          forward\n",
       "4     880   894        15    right forward\n",
       "5     720   753        34          forward\n",
       "6     778   782         5      left window\n",
       "7     786   804        19  Interior object\n",
       "8     933   938         6     center stack\n",
       "9     958  1017        60       Cell phone\n",
       "10    939   943         5          forward\n",
       "11    906   911         6    right forward\n",
       "12    847   866        20    right forward\n",
       "13    944   949         6       Cell phone\n",
       "14    912   932        21          forward\n",
       "15    950   957         8          forward\n",
       "16   1018  1030        13          forward\n",
       "17    867   879        13          forward\n",
       "18    768   777        10          forward"
      ]
     },
     "execution_count": 9,
     "metadata": {},
     "output_type": "execute_result"
    }
   ],
   "source": [
    "data.iloc[0][\"Glance\"].glances"
   ]
  },
  {
   "cell_type": "markdown",
   "metadata": {},
   "source": [
    "To access certain attributes of the `Video` data, for instance, you could use for loops and the `iloc` function, or `lambda` functions, as follows:"
   ]
  },
  {
   "cell_type": "code",
   "execution_count": 10,
   "metadata": {},
   "outputs": [
    {
     "data": {
      "text/plain": [
       "0                Conflict with a lead vehicle\n",
       "1                Conflict with a lead vehicle\n",
       "2      Conflict with vehicle in adjacent lane\n",
       "3                     Single vehicle conflict\n",
       "4      Conflict with vehicle in adjacent lane\n",
       "                        ...                  \n",
       "823                      Conflict with animal\n",
       "824              Conflict with a lead vehicle\n",
       "825              Conflict with a lead vehicle\n",
       "826              Conflict with a lead vehicle\n",
       "827         Conflict with a following vehicle\n",
       "Name: Video, Length: 828, dtype: object"
      ]
     },
     "execution_count": 10,
     "metadata": {},
     "output_type": "execute_result"
    }
   ],
   "source": [
    "data[\"Video\"].apply(lambda v: v.nature)"
   ]
  },
  {
   "cell_type": "markdown",
   "metadata": {},
   "source": [
    "Count \"Crashes\" with \"Talking/listening on cell phone\" as _first_ distraction. Look at the dictionary \"ResearcherDictionaryVideoReductionDatav1_1\" (uou can find it in the _SAFER100car_v1.5.zip_ archive) to understand how to extract this information. You may, for instance, use a for-loop to search the data or apply a lambda function to the relevant column."
   ]
  },
  {
   "cell_type": "code",
   "execution_count": 11,
   "metadata": {},
   "outputs": [
    {
     "data": {
      "text/plain": [
       "6"
      ]
     },
     "execution_count": 11,
     "metadata": {},
     "output_type": "execute_result"
    }
   ],
   "source": [
    "Crashes_with_talking_on_cellphone = data[(data[\"Video\"].apply(lambda v: v.distraction_1) == \"Talking/listening on cell phone\") & \\\n",
    "    (data[\"Video\"].apply(lambda v: v.severity) == \"Crash\")].shape[0]\n",
    "Crashes_with_talking_on_cellphone"
   ]
  },
  {
   "cell_type": "markdown",
   "metadata": {},
   "source": [
    "Count \"Crashes\" without \"Talking/listening on cell phone\" as _first_ distraction."
   ]
  },
  {
   "cell_type": "code",
   "execution_count": 12,
   "metadata": {},
   "outputs": [
    {
     "data": {
      "text/plain": [
       "62"
      ]
     },
     "execution_count": 12,
     "metadata": {},
     "output_type": "execute_result"
    }
   ],
   "source": [
    "Crashes_without_talking_on_cellphone = data[(data[\"Video\"].apply(lambda v: v.distraction_1) != \"Talking/listening on cell phone\") & \\\n",
    "    (data[\"Video\"].apply(lambda v: v.severity) == \"Crash\")].shape[0]\n",
    "Crashes_without_talking_on_cellphone"
   ]
  },
  {
   "cell_type": "markdown",
   "metadata": {},
   "source": [
    "Count \"Near Crashes\" with \"Talking/listening on cell phone\" use as _first_ distraction."
   ]
  },
  {
   "cell_type": "code",
   "execution_count": 13,
   "metadata": {},
   "outputs": [
    {
     "data": {
      "text/plain": [
       "38"
      ]
     },
     "execution_count": 13,
     "metadata": {},
     "output_type": "execute_result"
    }
   ],
   "source": [
    "NearCrashes_with_talking_on_cellphone = data[(data[\"Video\"].apply(lambda v: v.distraction_1) == \"Talking/listening on cell phone\") & \\\n",
    "    (data[\"Video\"].apply(lambda v: v.severity) == \"Near Crash\")].shape[0]\n",
    "NearCrashes_with_talking_on_cellphone"
   ]
  },
  {
   "cell_type": "markdown",
   "metadata": {},
   "source": [
    "Count \"Near Crashes\" without \"Talking/listening on cell phone\" use as _first_ distraction."
   ]
  },
  {
   "cell_type": "code",
   "execution_count": 14,
   "metadata": {},
   "outputs": [
    {
     "data": {
      "text/plain": [
       "722"
      ]
     },
     "execution_count": 14,
     "metadata": {},
     "output_type": "execute_result"
    }
   ],
   "source": [
    "NearCrashes_without_talking_on_cellphone = data[(data[\"Video\"].apply(lambda v: v.distraction_1) != \"Talking/listening on cell phone\") & \\\n",
    "    (data[\"Video\"].apply(lambda v: v.severity) == \"Near Crash\")].shape[0]\n",
    "NearCrashes_without_talking_on_cellphone"
   ]
  },
  {
   "cell_type": "markdown",
   "metadata": {},
   "source": [
    "Fill in the contingency table. You should oraganize the table as follow:\n",
    "\n",
    "|                                     | Crashes | Near-crashes |\n",
    "|-------------------------------------|---------|--------------|\n",
    "| Talking/listening on cell phone     | x       | x            |\n",
    "| Not Talking/listening on cell phone | x       | x            |"
   ]
  },
  {
   "cell_type": "code",
   "execution_count": 15,
   "metadata": {},
   "outputs": [
    {
     "data": {
      "text/html": [
       "<div>\n",
       "<style scoped>\n",
       "    .dataframe tbody tr th:only-of-type {\n",
       "        vertical-align: middle;\n",
       "    }\n",
       "\n",
       "    .dataframe tbody tr th {\n",
       "        vertical-align: top;\n",
       "    }\n",
       "\n",
       "    .dataframe thead th {\n",
       "        text-align: right;\n",
       "    }\n",
       "</style>\n",
       "<table border=\"1\" class=\"dataframe\">\n",
       "  <thead>\n",
       "    <tr style=\"text-align: right;\">\n",
       "      <th></th>\n",
       "      <th>Crashes</th>\n",
       "      <th>Near-crashes</th>\n",
       "    </tr>\n",
       "  </thead>\n",
       "  <tbody>\n",
       "    <tr>\n",
       "      <th>Talking/listening on cell phone</th>\n",
       "      <td>6</td>\n",
       "      <td>38</td>\n",
       "    </tr>\n",
       "    <tr>\n",
       "      <th>Not Talking/listening on cell phone</th>\n",
       "      <td>62</td>\n",
       "      <td>722</td>\n",
       "    </tr>\n",
       "  </tbody>\n",
       "</table>\n",
       "</div>"
      ],
      "text/plain": [
       "                                     Crashes  Near-crashes\n",
       "Talking/listening on cell phone            6            38\n",
       "Not Talking/listening on cell phone       62           722"
      ]
     },
     "execution_count": 15,
     "metadata": {},
     "output_type": "execute_result"
    }
   ],
   "source": [
    "contingency_table = pd.DataFrame([[Crashes_with_talking_on_cellphone, NearCrashes_with_talking_on_cellphone], \\\n",
    "    [Crashes_without_talking_on_cellphone, NearCrashes_without_talking_on_cellphone]], \\\n",
    "        [\"Talking/listening on cell phone\", \"Not Talking/listening on cell phone\"], [\"Crashes\", \"Near-crashes\"])\n",
    "\n",
    "contingency_table"
   ]
  },
  {
   "cell_type": "markdown",
   "metadata": {},
   "source": [
    "Calculate Odd ratios (ORs) and Confidence Intervals (CIs) (you may want to use the given function `util.get_odds_ratio_ci`)"
   ]
  },
  {
   "cell_type": "code",
   "execution_count": 16,
   "metadata": {},
   "outputs": [
    {
     "name": "stdout",
     "output_type": "stream",
     "text": [
      "Odds ratio: 1.84, 95% confidence interval: [0.75 4.52]\n"
     ]
    }
   ],
   "source": [
    "OR, CI95 = util.get_odds_ratio_ci(contingency_table)\n",
    "\n",
    "print(f\"Odds ratio: {OR:.2f}, 95% confidence interval: {CI95}\")"
   ]
  },
  {
   "cell_type": "markdown",
   "metadata": {},
   "source": [
    "Interpret the results and discuss with your colleague. No code needed for this."
   ]
  },
  {
   "cell_type": "markdown",
   "metadata": {},
   "source": [
    "## Task 3"
   ]
  },
  {
   "cell_type": "markdown",
   "metadata": {},
   "source": [
    "Task 3 is similar to what you did in Task 2. However, here you decide what odds ratio to calculate. It can be another type of distracting activity or another attribute of the event. Then, interpret the results and discuss with your colleague."
   ]
  },
  {
   "cell_type": "code",
   "execution_count": 17,
   "metadata": {},
   "outputs": [],
   "source": [
    "# ..."
   ]
  },
  {
   "cell_type": "markdown",
   "metadata": {},
   "source": [
    "## Task 4"
   ]
  },
  {
   "cell_type": "markdown",
   "metadata": {},
   "source": [
    "This task is about understanding the relation between crash severity and glance behaviour. The code for solving this task is a bit more involved, because we need to inspect the glance time series for each event separately. Feel free to modify it to your needs."
   ]
  },
  {
   "cell_type": "code",
   "execution_count": 18,
   "metadata": {},
   "outputs": [],
   "source": [
    "Crashes_with_eyes_on_road = 0\n",
    "NearCrashes_with_eyes_on_road = 0\n",
    "\n",
    "Crashes_with_eyes_off_road = 0\n",
    "NearCrashes_with_eyes_off_road = 0\n",
    "\n",
    "for idx_data in range(data.shape[0]):\n",
    "    \n",
    "    # Extract the variable that defines the beginning of the `precipitating event`.\n",
    "    # Look at the dictionary \"ResearcherDictionaryVideoReductionDatav1_1\"\n",
    "    # to understand how to extract and interpret this information. \n",
    "    \n",
    "    precipitating_event_start = data.iloc[idx_data][\"Video\"].start\n",
    "\n",
    "    # For each event, loop through the glances time-series...\n",
    "    for idx_glance in range(data.iloc[idx_data][\"Glance\"].glances.shape[0]):\n",
    "\n",
    "        # Identify the glance that include the beginning of the\n",
    "        # precipitating event. You may want to use the variable `start` and\n",
    "        # `stop` for each glance.\n",
    "        \n",
    "        glance = data.iloc[idx_data][\"Glance\"].glances.iloc[idx_glance]\n",
    "        \n",
    "        if glance[\"start\"] <= precipitating_event_start and precipitating_event_start <= glance[\"stop\"]:\n",
    "            \n",
    "            # Check if the glance is valid. That is, exclude when the video\n",
    "            # was not available\n",
    "\n",
    "            if glance.location != \"No Video\":\n",
    "\n",
    "                # Check if the glance was on road (consult the glance \n",
    "                # dictionary to decide about the appropriate glance \n",
    "                # location variable name)\n",
    "                if glance.location == \"forward\":\n",
    "                    # Count Crashes and Near-crashes with eyes on-road at precipitating event\n",
    "                    if data.iloc[idx_data][\"Video\"].severity == \"Crash\":\n",
    "                        Crashes_with_eyes_on_road = Crashes_with_eyes_on_road + 1\n",
    "                    else:\n",
    "                        NearCrashes_with_eyes_on_road = NearCrashes_with_eyes_on_road + 1\n",
    "                else: # The glance was not on road\n",
    "                    # Count Crashes and Near-crashes with eyes off-road at precipitating event\n",
    "                    if data.iloc[idx_data][\"Video\"].severity == \"Crash\":\n",
    "                        Crashes_with_eyes_off_road = Crashes_with_eyes_off_road + 1\n",
    "                    else:\n",
    "                        NearCrashes_with_eyes_off_road = NearCrashes_with_eyes_off_road + 1\n"
   ]
  },
  {
   "cell_type": "markdown",
   "metadata": {},
   "source": [
    "Fill in the contingency table. You should oraganize the table as follow:\n",
    "\n",
    "|               | Crashes | Near-crashes |\n",
    "|---------------|---------|--------------|\n",
    "| Eyes on-road  | x       | x            |\n",
    "| Eyes off-road | x       | x            |"
   ]
  },
  {
   "cell_type": "code",
   "execution_count": 19,
   "metadata": {},
   "outputs": [
    {
     "data": {
      "text/html": [
       "<div>\n",
       "<style scoped>\n",
       "    .dataframe tbody tr th:only-of-type {\n",
       "        vertical-align: middle;\n",
       "    }\n",
       "\n",
       "    .dataframe tbody tr th {\n",
       "        vertical-align: top;\n",
       "    }\n",
       "\n",
       "    .dataframe thead th {\n",
       "        text-align: right;\n",
       "    }\n",
       "</style>\n",
       "<table border=\"1\" class=\"dataframe\">\n",
       "  <thead>\n",
       "    <tr style=\"text-align: right;\">\n",
       "      <th></th>\n",
       "      <th>Crashes</th>\n",
       "      <th>Near-crashes</th>\n",
       "    </tr>\n",
       "  </thead>\n",
       "  <tbody>\n",
       "    <tr>\n",
       "      <th>Eyes on-road</th>\n",
       "      <td>27</td>\n",
       "      <td>393</td>\n",
       "    </tr>\n",
       "    <tr>\n",
       "      <th>Eyes off-road</th>\n",
       "      <td>22</td>\n",
       "      <td>156</td>\n",
       "    </tr>\n",
       "  </tbody>\n",
       "</table>\n",
       "</div>"
      ],
      "text/plain": [
       "               Crashes  Near-crashes\n",
       "Eyes on-road        27           393\n",
       "Eyes off-road       22           156"
      ]
     },
     "execution_count": 19,
     "metadata": {},
     "output_type": "execute_result"
    }
   ],
   "source": [
    "contingency_table = pd.DataFrame([[Crashes_with_eyes_on_road, NearCrashes_with_eyes_on_road], \\\n",
    "    [Crashes_with_eyes_off_road, NearCrashes_with_eyes_off_road]], \\\n",
    "        [\"Eyes on-road\", \"Eyes off-road\"], [\"Crashes\", \"Near-crashes\"])\n",
    "\n",
    "contingency_table"
   ]
  },
  {
   "cell_type": "markdown",
   "metadata": {},
   "source": [
    "Calculate Odd ratios (ORs) and Confidence Intervals (CIs) (you may want to use the given function `util.get_odds_ratio_ci`)"
   ]
  },
  {
   "cell_type": "code",
   "execution_count": 20,
   "metadata": {},
   "outputs": [
    {
     "name": "stdout",
     "output_type": "stream",
     "text": [
      "Odds ratio: 0.49, 95% confidence interval: [0.27 0.88]\n"
     ]
    }
   ],
   "source": [
    "OR, CI95 = util.get_odds_ratio_ci(contingency_table)\n",
    "\n",
    "print(f\"Odds ratio: {OR:.2f}, 95% confidence interval: {CI95}\")"
   ]
  },
  {
   "cell_type": "markdown",
   "metadata": {},
   "source": [
    "Interpret the results and discuss with your colleague. No code needed for this."
   ]
  }
 ],
 "metadata": {
  "kernelspec": {
   "display_name": "Python 3.8.5 ('idea-league-chalmers')",
   "language": "python",
   "name": "python3"
  },
  "language_info": {
   "codemirror_mode": {
    "name": "ipython",
    "version": 3
   },
   "file_extension": ".py",
   "mimetype": "text/x-python",
   "name": "python",
   "nbconvert_exporter": "python",
   "pygments_lexer": "ipython3",
   "version": "3.8.5"
  },
  "orig_nbformat": 4,
  "vscode": {
   "interpreter": {
    "hash": "9b1237065cd4fd0023a1f41f1df98b606095b41ea093f0ad2be137af4a1d29ac"
   }
  }
 },
 "nbformat": 4,
 "nbformat_minor": 2
}
