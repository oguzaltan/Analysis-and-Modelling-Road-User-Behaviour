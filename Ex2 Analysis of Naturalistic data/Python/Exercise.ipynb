{
 "cells": [
  {
   "cell_type": "markdown",
   "metadata": {},
   "source": [
    "# IDEA League exercise - 100car Naturalistic data analysis\n",
    "\n",
    "Contact: Alexander Rasch ([alexander.rasch@chalmers.se](alexander.rasch@chalmers.se)), Pierluigi Olleja ([pierluigi.olleja@chalmers.se](pierluigi.olleja@chalmers.se))\n",
    "\n",
    "Institution: Chalmers University of Technology\n",
    "\n",
    "Date: September 2022\n",
    "\n",
    "Course: IDEA League summer school (Analysis and modelling road user behaviour)"
   ]
  },
  {
   "cell_type": "markdown",
   "metadata": {},
   "source": [
    "_Note:_ This notebook was developed based on the conda environment specified in _environment.yml_. To run it, you could use one of the following ways:\n",
    "- Install the environment from conda (you need to have e.g. [Miniconda](https://docs.conda.io/en/latest/miniconda.html) or [Anaconda](https://www.anaconda.com/products/individual) installed): `conda env create -f environment.yml` and activate it via `conda activate idea-league-chalmers`\n",
    "- Upload it to [Google Colab](https://colab.research.google.com/) (you will also need to upload the files _Event.mat_ and _util.py_ to the same location, please do _not_ share the data publicly!)\n",
    "- Have all the packages installed in your local Python installation (see the _environment.yml_ file for detailed specifications)"
   ]
  },
  {
   "cell_type": "code",
   "execution_count": 1,
   "metadata": {},
   "outputs": [],
   "source": [
    "# If you use Google Colab, you may need the following lines to upload the Event.mat and util.py files\n",
    "\n",
    "# from google.colab import files\n",
    "# uploaded = files.upload()"
   ]
  },
  {
   "cell_type": "code",
   "execution_count": 2,
   "metadata": {},
   "outputs": [],
   "source": [
    "import numpy as np\n",
    "from scipy.io import loadmat\n",
    "import matplotlib.pyplot as plt\n",
    "from datetime import datetime, date, time\n",
    "import pandas as pd\n",
    "\n",
    "# Utilities for loading the data from MATLAB and calculating odds ratios\n",
    "import util\n",
    "\n",
    "np.set_printoptions(precision=2)"
   ]
  },
  {
   "cell_type": "markdown",
   "metadata": {},
   "source": [
    "## Task 1 (MATLAB-only!)"
   ]
  },
  {
   "cell_type": "markdown",
   "metadata": {},
   "source": [
    "For this first task you do not need to write any code. You need, instead, to use the SAFER100car software (including the documentation), and the 100car's dictionaries.\n",
    "\n",
    "Follow the steps below:\n",
    "1. Start the SAFER100car GUI in MATLAB: execute the file _SAFER100car.m_\n",
    "2. Load a 'crash' event\n",
    "3. Plot the speed signal (and check its quality)\n",
    "4. Read the narrative of the event\n",
    "5. Explore and understand the video annotations (more info in the dictionaries)\n",
    "6. Explore and understand the glance behavior (more info in the dictionaries)\n",
    "7. Can you make a story? For example: What was the event's contributing factor? Was the driver distracted? Were there other vehicles involved in the event?\n",
    "8. Repeat for some more events, including near-crashes."
   ]
  },
  {
   "cell_type": "markdown",
   "metadata": {},
   "source": [
    "## Task 2"
   ]
  },
  {
   "cell_type": "markdown",
   "metadata": {},
   "source": [
    "This task is about understanding the relation between crash severity and distracting activities. \n",
    "\n",
    "Load the data from _Event.mat_ with the given function `util.get_data`."
   ]
  },
  {
   "cell_type": "code",
   "execution_count": null,
   "metadata": {},
   "outputs": [],
   "source": [
    "print(util.get_data.__doc__)"
   ]
  },
  {
   "cell_type": "markdown",
   "metadata": {},
   "source": [
    "When the data are loaded (which can take about half a minute!), the pandas DataFrame `data`, which includes the information on all events in the 100car dataset is available."
   ]
  },
  {
   "cell_type": "code",
   "execution_count": null,
   "metadata": {},
   "outputs": [],
   "source": [
    "data = util.get_data(\"Event.mat\")\n",
    "\n",
    "data.head()"
   ]
  },
  {
   "cell_type": "markdown",
   "metadata": {},
   "source": [
    "Each row in the DataFrame `data` includes five columns, the `ID` of the event as an integer number, a description of the event (`Narratives`) as string, a `Sensor` object containing sensor data, a `Video` object containing video annotations and settings, and a `Glances` object containing the glance data.\n",
    "\n",
    "See below a way to show all the attributes of, for instance, a `Video` object (for the first event at index `0`)."
   ]
  },
  {
   "cell_type": "code",
   "execution_count": null,
   "metadata": {},
   "outputs": [],
   "source": [
    "print(*list(data.iloc[0][\"Video\"].__dict__.keys()), sep=', ')"
   ]
  },
  {
   "cell_type": "markdown",
   "metadata": {},
   "source": [
    "The `Glance` object contains a pandas DataFrame (`glances`) which contains all the annotated glances of the driver. See below for an example event:"
   ]
  },
  {
   "cell_type": "code",
   "execution_count": null,
   "metadata": {},
   "outputs": [],
   "source": [
    "data.iloc[0][\"Glance\"].glances"
   ]
  },
  {
   "cell_type": "markdown",
   "metadata": {},
   "source": [
    "To access certain attributes of the `Video` data, for instance, you could use for loops and the `iloc` function, or `lambda` functions, as follows:"
   ]
  },
  {
   "cell_type": "code",
   "execution_count": null,
   "metadata": {},
   "outputs": [],
   "source": [
    "data[\"Video\"].apply(lambda v: v.nature)"
   ]
  },
  {
   "cell_type": "markdown",
   "metadata": {},
   "source": [
    "Count \"Crashes\" with \"Talking/listening on cell phone\" as _first_ distraction. Look at the dictionary \"ResearcherDictionaryVideoReductionDatav1_1\" (uou can find it in the _SAFER100car_v1.5.zip_ archive) to understand how to extract this information. You may, for instance, use a for-loop to search the data or apply a lambda function to the relevant column."
   ]
  },
  {
   "cell_type": "code",
   "execution_count": null,
   "metadata": {},
   "outputs": [],
   "source": [
    "Crashes_with_talking_on_cellphone = data[(data[\"Video\"].apply(lambda v: v.distraction_1) == \"Talking/listening on cell phone\") & \\\n",
    "    (data[\"Video\"].apply(lambda v: v.severity) == \"Crash\")].shape[0]\n",
    "Crashes_with_talking_on_cellphone"
   ]
  },
  {
   "cell_type": "markdown",
   "metadata": {},
   "source": [
    "Count \"Crashes\" without \"Talking/listening on cell phone\" as _first_ distraction."
   ]
  },
  {
   "cell_type": "code",
   "execution_count": null,
   "metadata": {},
   "outputs": [],
   "source": [
    "Crashes_without_talking_on_cellphone = []"
   ]
  },
  {
   "cell_type": "markdown",
   "metadata": {},
   "source": [
    "Count \"Near Crashes\" with \"Talking/listening on cell phone\" use as _first_ distraction."
   ]
  },
  {
   "cell_type": "code",
   "execution_count": null,
   "metadata": {},
   "outputs": [],
   "source": [
    "NearCrashes_with_talking_on_cellphone = []"
   ]
  },
  {
   "cell_type": "markdown",
   "metadata": {},
   "source": [
    "Count \"Near Crashes\" without \"Talking/listening on cell phone\" use as _first_ distraction."
   ]
  },
  {
   "cell_type": "code",
   "execution_count": null,
   "metadata": {},
   "outputs": [],
   "source": [
    "NearCrashes_without_talking_on_cellphone = []"
   ]
  },
  {
   "cell_type": "markdown",
   "metadata": {},
   "source": [
    "Fill in the contingency table. You should oraganize the table as follow:\n",
    "\n",
    "|                                     | Crashes | Near-crashes |\n",
    "|-------------------------------------|---------|--------------|\n",
    "| Talking/listening on cell phone     | x       | x            |\n",
    "| Not Talking/listening on cell phone | x       | x            |"
   ]
  },
  {
   "cell_type": "code",
   "execution_count": null,
   "metadata": {},
   "outputs": [],
   "source": [
    "contingency_table = pd.DataFrame([[Crashes_with_talking_on_cellphone, NearCrashes_with_talking_on_cellphone], \\\n",
    "    [Crashes_without_talking_on_cellphone, NearCrashes_without_talking_on_cellphone]], \\\n",
    "        [\"Talking/listening on cell phone\", \"Not Talking/listening on cell phone\"], [\"Crashes\", \"Near-crashes\"])\n",
    "\n",
    "contingency_table"
   ]
  },
  {
   "cell_type": "markdown",
   "metadata": {},
   "source": [
    "Calculate Odd ratios (ORs) and Confidence Intervals (CIs) (you may want to use the given function `util.get_odds_ratio_ci`)"
   ]
  },
  {
   "cell_type": "code",
   "execution_count": null,
   "metadata": {},
   "outputs": [],
   "source": [
    "print(util.get_odds_ratio_ci.__doc__)"
   ]
  },
  {
   "cell_type": "code",
   "execution_count": null,
   "metadata": {},
   "outputs": [],
   "source": [
    "OR, CI95 = []\n",
    "\n",
    "print(f\"Odds ratio: {OR:.2f}, 95% confidence interval: {CI95}\")"
   ]
  },
  {
   "cell_type": "markdown",
   "metadata": {},
   "source": [
    "Interpret the results and discuss with your colleague. No code needed for this."
   ]
  },
  {
   "cell_type": "markdown",
   "metadata": {},
   "source": [
    "## Task 3"
   ]
  },
  {
   "cell_type": "markdown",
   "metadata": {},
   "source": [
    "Task 3 is similar to what you did in Task 2. However, here you decide what odds ratio to calculate. It can be another type of distracting activity or another attribute of the event. Then, interpret the results and discuss with your colleague."
   ]
  },
  {
   "cell_type": "code",
   "execution_count": null,
   "metadata": {},
   "outputs": [],
   "source": [
    "# ..."
   ]
  },
  {
   "cell_type": "markdown",
   "metadata": {},
   "source": [
    "## Task 4"
   ]
  },
  {
   "cell_type": "markdown",
   "metadata": {},
   "source": [
    "This task is about understanding the relation between crash severity and glance behaviour. The code for solving this task is a bit more involved, because we need to inspect the glance time series for each event separately. Feel free to modify it to your needs."
   ]
  },
  {
   "cell_type": "code",
   "execution_count": null,
   "metadata": {},
   "outputs": [],
   "source": [
    "Crashes_with_eyes_on_road = 0\n",
    "NearCrashes_with_eyes_on_road = 0\n",
    "\n",
    "Crashes_with_eyes_off_road = 0\n",
    "NearCrashes_with_eyes_off_road = 0\n",
    "\n",
    "for idx_data in range(data.shape[0]):\n",
    "    \n",
    "    # Extract the variable that defines the beginning of the `precipitating event`.\n",
    "    # Look at the dictionary \"ResearcherDictionaryVideoReductionDatav1_1\"\n",
    "    # to understand how to extract and interpret this information. \n",
    "    \n",
    "    precipitating_event_start = []\n",
    "\n",
    "    # For each event, loop through the glances time-series...\n",
    "    for idx_glance in range(data.iloc[idx_data][\"Glance\"].glances.shape[0]):\n",
    "\n",
    "        # Identify the glance that include the beginning of the\n",
    "        # precipitating event. You may want to use the variable `start` and\n",
    "        # `stop` for each glance.\n",
    "        \n",
    "        glance = data.iloc[idx_data][\"Glance\"].glances.iloc[idx_glance]\n",
    "        \n",
    "        if []:\n",
    "            \n",
    "            # Check if the glance is valid. That is, exclude when the video\n",
    "            # was not available\n",
    "\n",
    "            if []:\n",
    "\n",
    "                # Check if the glance was on road (consult the glance \n",
    "                # dictionary to decide about the appropriate glance \n",
    "                # location variable name)\n",
    "                if []:\n",
    "                    # Count Crashes and Near-crashes with eyes on-road at precipitating event\n",
    "                    if []:\n",
    "                        Crashes_with_eyes_on_road = Crashes_with_eyes_on_road + 1\n",
    "                    else:\n",
    "                        NearCrashes_with_eyes_on_road = NearCrashes_with_eyes_on_road + 1\n",
    "                else: # The glance was not on road\n",
    "                    # Count Crashes and Near-crashes with eyes off-road at precipitating event\n",
    "                    if []:\n",
    "                        Crashes_with_eyes_off_road = Crashes_with_eyes_off_road + 1\n",
    "                    else:\n",
    "                        NearCrashes_with_eyes_off_road = NearCrashes_with_eyes_off_road + 1\n"
   ]
  },
  {
   "cell_type": "markdown",
   "metadata": {},
   "source": [
    "Fill in the contingency table. You should oraganize the table as follow:\n",
    "\n",
    "|               | Crashes | Near-crashes |\n",
    "|---------------|---------|--------------|\n",
    "| Eyes on-road  | x       | x            |\n",
    "| Eyes off-road | x       | x            |"
   ]
  },
  {
   "cell_type": "code",
   "execution_count": null,
   "metadata": {},
   "outputs": [],
   "source": [
    "contingency_table = pd.DataFrame([[Crashes_with_eyes_on_road, NearCrashes_with_eyes_on_road], \\\n",
    "    [Crashes_with_eyes_off_road, NearCrashes_with_eyes_off_road]], \\\n",
    "        [\"Eyes on-road\", \"Eyes off-road\"], [\"Crashes\", \"Near-crashes\"])\n",
    "\n",
    "contingency_table"
   ]
  },
  {
   "cell_type": "markdown",
   "metadata": {},
   "source": [
    "Calculate Odd ratios (ORs) and Confidence Intervals (CIs) (you may want to use the given function `util.get_odds_ratio_ci`)"
   ]
  },
  {
   "cell_type": "code",
   "execution_count": null,
   "metadata": {},
   "outputs": [],
   "source": [
    "OR, CI95 = []\n",
    "\n",
    "print(f\"Odds ratio: {OR:.2f}, 95% confidence interval: {CI95}\")"
   ]
  },
  {
   "cell_type": "markdown",
   "metadata": {},
   "source": [
    "Interpret the results and discuss with your colleague. No code needed for this."
   ]
  }
 ],
 "metadata": {
  "kernelspec": {
   "display_name": "Python 3.8.5 ('idea-league-chalmers')",
   "language": "python",
   "name": "python3"
  },
  "language_info": {
   "codemirror_mode": {
    "name": "ipython",
    "version": 3
   },
   "file_extension": ".py",
   "mimetype": "text/x-python",
   "name": "python",
   "nbconvert_exporter": "python",
   "pygments_lexer": "ipython3",
   "version": "3.8.5"
  },
  "vscode": {
   "interpreter": {
    "hash": "9b1237065cd4fd0023a1f41f1df98b606095b41ea093f0ad2be137af4a1d29ac"
   }
  }
 },
 "nbformat": 4,
 "nbformat_minor": 2
}
